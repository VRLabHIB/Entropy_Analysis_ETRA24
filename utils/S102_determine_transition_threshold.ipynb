{
 "cells": [
  {
   "cell_type": "code",
   "execution_count": 1,
   "id": "627bed9a-20f7-4dd8-aef2-0de718c2f7eb",
   "metadata": {
    "tags": []
   },
   "outputs": [],
   "source": [
    "import numpy as np\n",
    "import pandas as pd\n",
    "import os\n",
    "import glob"
   ]
  },
  {
   "cell_type": "code",
   "execution_count": 4,
   "id": "af29d02e-0d6a-4872-bf1e-fca6bbe9d0b6",
   "metadata": {
    "tags": []
   },
   "outputs": [],
   "source": [
    "project_path = os.path.abspath(os.getcwd())\n",
    "project_path = project_path.rsplit('\\\\',1)[0]"
   ]
  },
  {
   "cell_type": "markdown",
   "id": "c1c7bf89-7871-4fee-8d98-7b0bb56b8829",
   "metadata": {},
   "source": [
    "## Transition Duration"
   ]
  },
  {
   "cell_type": "code",
   "execution_count": 99,
   "id": "17c0a942-0f86-4d53-8b2a-71cdfd2130a8",
   "metadata": {
    "tags": []
   },
   "outputs": [],
   "source": [
    "big_data_path = project_path + \"\\\\data\\\\big\\\\\"\n",
    "os.chdir(big_data_path)\n",
    "big_lst = glob.glob('*trans.csv')"
   ]
  },
  {
   "cell_type": "code",
   "execution_count": 100,
   "id": "b85fd6e6-a441-4a16-97e6-b18da1020c24",
   "metadata": {
    "tags": []
   },
   "outputs": [],
   "source": [
    "trans_dur_lst = list()\n",
    "for file in big_lst:\n",
    "    df = pd.read_csv(file)\n",
    "    trans_dur_lst = trans_dur_lst + df['trans_duration'].to_list()"
   ]
  },
  {
   "cell_type": "code",
   "execution_count": 101,
   "id": "0055cbc9-7dcb-462f-9a0c-141eb5811af3",
   "metadata": {
    "tags": []
   },
   "outputs": [],
   "source": [
    "vir_data_path = project_path + \"\\\\data\\\\vir\\\\\"\n",
    "os.chdir(vir_data_path)\n",
    "vir_lst = glob.glob('*trans.csv')"
   ]
  },
  {
   "cell_type": "code",
   "execution_count": 102,
   "id": "6f76065c-cd8e-47bf-b424-015f7e08805f",
   "metadata": {
    "tags": []
   },
   "outputs": [],
   "source": [
    "for file in vir_lst:\n",
    "    df = pd.read_csv(file)\n",
    "    trans_dur_lst = trans_dur_lst + df['trans_duration'].to_list()"
   ]
  },
  {
   "cell_type": "code",
   "execution_count": 103,
   "id": "712b4b53-eb29-4182-911f-2a5d530ee44f",
   "metadata": {
    "tags": []
   },
   "outputs": [],
   "source": [
    "df = pd.DataFrame({'trans_dur':trans_dur_lst})"
   ]
  },
  {
   "cell_type": "code",
   "execution_count": 121,
   "id": "ce0f54be-918b-4869-bfea-5d8060849ea3",
   "metadata": {
    "tags": []
   },
   "outputs": [],
   "source": [
    "def find_outliers_IQR(df):\n",
    "\n",
    "    q3=df['trans_dur'].quantile(0.99)\n",
    "    IQR=q3\n",
    "    print(IQR)\n",
    "    outliers = df[df['trans_dur']>IQR]\n",
    "    return outliers"
   ]
  },
  {
   "cell_type": "code",
   "execution_count": 122,
   "id": "b41b56f5-4811-48bc-9c54-bc234a1dd5e7",
   "metadata": {
    "tags": []
   },
   "outputs": [
    {
     "name": "stdout",
     "output_type": "stream",
     "text": [
      "4.442999999999984\n"
     ]
    }
   ],
   "source": [
    "outliers = find_outliers_IQR(df)"
   ]
  },
  {
   "cell_type": "code",
   "execution_count": 123,
   "id": "e2d7fe6f-c368-4797-ae1f-3157d0f68513",
   "metadata": {
    "tags": []
   },
   "outputs": [
    {
     "data": {
      "text/html": [
       "<div>\n",
       "<style scoped>\n",
       "    .dataframe tbody tr th:only-of-type {\n",
       "        vertical-align: middle;\n",
       "    }\n",
       "\n",
       "    .dataframe tbody tr th {\n",
       "        vertical-align: top;\n",
       "    }\n",
       "\n",
       "    .dataframe thead th {\n",
       "        text-align: right;\n",
       "    }\n",
       "</style>\n",
       "<table border=\"1\" class=\"dataframe\">\n",
       "  <thead>\n",
       "    <tr style=\"text-align: right;\">\n",
       "      <th></th>\n",
       "      <th>trans_dur</th>\n",
       "    </tr>\n",
       "  </thead>\n",
       "  <tbody>\n",
       "    <tr>\n",
       "      <th>count</th>\n",
       "      <td>1759.000000</td>\n",
       "    </tr>\n",
       "    <tr>\n",
       "      <th>mean</th>\n",
       "      <td>9.264308</td>\n",
       "    </tr>\n",
       "    <tr>\n",
       "      <th>std</th>\n",
       "      <td>7.674958</td>\n",
       "    </tr>\n",
       "    <tr>\n",
       "      <th>min</th>\n",
       "      <td>4.443000</td>\n",
       "    </tr>\n",
       "    <tr>\n",
       "      <th>25%</th>\n",
       "      <td>5.339000</td>\n",
       "    </tr>\n",
       "    <tr>\n",
       "      <th>50%</th>\n",
       "      <td>6.826000</td>\n",
       "    </tr>\n",
       "    <tr>\n",
       "      <th>75%</th>\n",
       "      <td>9.972000</td>\n",
       "    </tr>\n",
       "    <tr>\n",
       "      <th>max</th>\n",
       "      <td>100.719000</td>\n",
       "    </tr>\n",
       "  </tbody>\n",
       "</table>\n",
       "</div>"
      ],
      "text/plain": [
       "         trans_dur\n",
       "count  1759.000000\n",
       "mean      9.264308\n",
       "std       7.674958\n",
       "min       4.443000\n",
       "25%       5.339000\n",
       "50%       6.826000\n",
       "75%       9.972000\n",
       "max     100.719000"
      ]
     },
     "execution_count": 123,
     "metadata": {},
     "output_type": "execute_result"
    }
   ],
   "source": [
    "outliers.describe()"
   ]
  },
  {
   "cell_type": "code",
   "execution_count": 124,
   "id": "8c3dfe0d-8dd6-48b3-a519-42562163a133",
   "metadata": {
    "tags": []
   },
   "outputs": [
    {
     "data": {
      "text/plain": [
       "<seaborn.axisgrid.FacetGrid at 0x2b0c8e98bb0>"
      ]
     },
     "execution_count": 124,
     "metadata": {},
     "output_type": "execute_result"
    },
    {
     "data": {
      "image/png": "[encoded data removed]",
      "text/plain": [
       "<Figure size 500x500 with 1 Axes>"
      ]
     },
     "metadata": {},
     "output_type": "display_data"
    }
   ],
   "source": [
    "import seaborn as sns\n",
    "import matplotlib.pyplot as plt\n",
    "sns.displot(outliers, x = 'trans_dur')"
   ]
  },
  {
   "cell_type": "markdown",
   "id": "ef7e104c-ac32-47f5-a714-4497a03da6d9",
   "metadata": {},
   "source": [
    "## AOI Duration"
   ]
  },
  {
   "cell_type": "code",
   "execution_count": 125,
   "id": "fb9b09ed-66be-407d-8cc6-fcf7a93ef312",
   "metadata": {
    "tags": []
   },
   "outputs": [],
   "source": [
    "big_data_path = project_path + \"\\\\data\\\\big\\\\\"\n",
    "os.chdir(big_data_path)\n",
    "big_lst = glob.glob('*node.csv')"
   ]
  },
  {
   "cell_type": "code",
   "execution_count": 126,
   "id": "59a6f406-950b-4ccc-8170-f7527c28e245",
   "metadata": {
    "tags": []
   },
   "outputs": [],
   "source": [
    "node_dur_lst = list()\n",
    "for file in big_lst:\n",
    "    df = pd.read_csv(file)\n",
    "    node_dur_lst = node_dur_lst + df['AOI_duration'].to_list()"
   ]
  },
  {
   "cell_type": "code",
   "execution_count": 127,
   "id": "61e8eadc-2d27-47a0-aca2-7be009ddaeb7",
   "metadata": {
    "tags": []
   },
   "outputs": [],
   "source": [
    "vir_data_path = project_path + \"\\\\data\\\\vir\\\\\"\n",
    "os.chdir(vir_data_path)\n",
    "vir_lst = glob.glob('*node.csv')"
   ]
  },
  {
   "cell_type": "code",
   "execution_count": 128,
   "id": "41ae9061-2b0a-4084-9a64-b3600a0538f9",
   "metadata": {
    "tags": []
   },
   "outputs": [],
   "source": [
    "for file in vir_lst:\n",
    "    df = pd.read_csv(file)\n",
    "    node_dur_lst = node_dur_lst + df['AOI_duration'].to_list()"
   ]
  },
  {
   "cell_type": "code",
   "execution_count": 129,
   "id": "93a8a2ef-cd77-4ed5-9075-6a9566547d18",
   "metadata": {
    "tags": []
   },
   "outputs": [],
   "source": [
    "dfn = pd.DataFrame({'node_dur':node_dur_lst})"
   ]
  },
  {
   "cell_type": "code",
   "execution_count": 138,
   "id": "53c633e7-af56-4a41-a8c9-420f59a2976a",
   "metadata": {
    "tags": []
   },
   "outputs": [],
   "source": [
    "def find_outliers_IQR(dfn):\n",
    "\n",
    "    IQR=dfn['node_dur'].quantile(0.01)\n",
    "\n",
    "    print(IQR)\n",
    "    outliers = dfn[dfn['node_dur']<IQR]\n",
    "    return outliers"
   ]
  },
  {
   "cell_type": "code",
   "execution_count": 139,
   "id": "1cffbd77-ccd3-4973-b473-ffa5b957eca5",
   "metadata": {
    "tags": []
   },
   "outputs": [
    {
     "name": "stdout",
     "output_type": "stream",
     "text": [
      "0.0430000000000063\n"
     ]
    }
   ],
   "source": [
    "outliers = find_outliers_IQR(dfn)"
   ]
  },
  {
   "cell_type": "code",
   "execution_count": 140,
   "id": "aba2430e-4ee4-4417-92e3-3d305d7e6c04",
   "metadata": {
    "tags": []
   },
   "outputs": [
    {
     "data": {
      "text/html": [
       "<div>\n",
       "<style scoped>\n",
       "    .dataframe tbody tr th:only-of-type {\n",
       "        vertical-align: middle;\n",
       "    }\n",
       "\n",
       "    .dataframe tbody tr th {\n",
       "        vertical-align: top;\n",
       "    }\n",
       "\n",
       "    .dataframe thead th {\n",
       "        text-align: right;\n",
       "    }\n",
       "</style>\n",
       "<table border=\"1\" class=\"dataframe\">\n",
       "  <thead>\n",
       "    <tr style=\"text-align: right;\">\n",
       "      <th></th>\n",
       "      <th>node_dur</th>\n",
       "    </tr>\n",
       "  </thead>\n",
       "  <tbody>\n",
       "    <tr>\n",
       "      <th>count</th>\n",
       "      <td>998.000000</td>\n",
       "    </tr>\n",
       "    <tr>\n",
       "      <th>mean</th>\n",
       "      <td>0.042194</td>\n",
       "    </tr>\n",
       "    <tr>\n",
       "      <th>std</th>\n",
       "      <td>0.001603</td>\n",
       "    </tr>\n",
       "    <tr>\n",
       "      <th>min</th>\n",
       "      <td>0.022000</td>\n",
       "    </tr>\n",
       "    <tr>\n",
       "      <th>25%</th>\n",
       "      <td>0.042000</td>\n",
       "    </tr>\n",
       "    <tr>\n",
       "      <th>50%</th>\n",
       "      <td>0.043000</td>\n",
       "    </tr>\n",
       "    <tr>\n",
       "      <th>75%</th>\n",
       "      <td>0.043000</td>\n",
       "    </tr>\n",
       "    <tr>\n",
       "      <th>max</th>\n",
       "      <td>0.043000</td>\n",
       "    </tr>\n",
       "  </tbody>\n",
       "</table>\n",
       "</div>"
      ],
      "text/plain": [
       "         node_dur\n",
       "count  998.000000\n",
       "mean     0.042194\n",
       "std      0.001603\n",
       "min      0.022000\n",
       "25%      0.042000\n",
       "50%      0.043000\n",
       "75%      0.043000\n",
       "max      0.043000"
      ]
     },
     "execution_count": 140,
     "metadata": {},
     "output_type": "execute_result"
    }
   ],
   "source": [
    "outliers.describe()"
   ]
  },
  {
   "cell_type": "code",
   "execution_count": null,
   "id": "ad66fcf8-f84f-4edd-84e0-fee9bb19f865",
   "metadata": {},
   "outputs": [],
   "source": []
  }
 ],
 "metadata": {
  "kernelspec": {
   "display_name": "jupyter_venv",
   "language": "python",
   "name": "jupyter_venv"
  },
  "language_info": {
   "codemirror_mode": {
    "name": "ipython",
    "version": 3
   },
   "file_extension": ".py",
   "mimetype": "text/x-python",
   "name": "python",
   "nbconvert_exporter": "python",
   "pygments_lexer": "ipython3",
   "version": "3.9.13"
  }
 },
 "nbformat": 4,
 "nbformat_minor": 5
}
